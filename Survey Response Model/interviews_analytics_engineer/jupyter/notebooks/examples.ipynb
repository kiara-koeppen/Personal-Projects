{
 "cells": [
  {
   "cell_type": "markdown",
   "id": "f3b3e01c-7187-474c-9696-aaf02826f519",
   "metadata": {},
   "source": [
    "## Import Required Libraries\n",
    "\n",
    "Let's get started by importing any required libraries.\n",
    "\n",
    "dbLite is a small library that will wick away some of the boilerplate code involved in writing queries against Postgres."
   ]
  },
  {
   "cell_type": "code",
   "execution_count": 1,
   "id": "d69f5b46-5298-4d4b-a1a4-36514f153be7",
   "metadata": {},
   "outputs": [],
   "source": [
    "import pandas as pd\n",
    "from common.dbLite import dbLite\n",
    "\n",
    "db = dbLite()"
   ]
  },
  {
   "cell_type": "markdown",
   "id": "7993d6cd-a936-420a-9ddd-055cd8a9ed1e",
   "metadata": {},
   "source": [
    "## Set Up the Database\n",
    "\n",
    "Run this once only (or if you wish you re-set the state of the database)."
   ]
  },
  {
   "cell_type": "code",
   "execution_count": 4,
   "id": "48b844d6-5f91-4856-8885-76823a1380d3",
   "metadata": {},
   "outputs": [],
   "source": [
    "# Set up our tables\n",
    "\n",
    "!python3 create_tables.py"
   ]
  },
  {
   "cell_type": "markdown",
   "id": "dfa68ce6-55ba-4263-93f9-2316117a080b",
   "metadata": {},
   "source": [
    "## Example 1: Using Pandas's read_sql method\n",
    "\n",
    "You can use any of the Pandas sql methods by passing the connection object, like so:"
   ]
  },
  {
   "cell_type": "code",
   "execution_count": 2,
   "id": "a83acd53-e708-4143-9777-59ed482e9121",
   "metadata": {},
   "outputs": [],
   "source": [
    "pd.read_sql('select count(*) from projects', db.connect())"
   ]
  },
  {
   "cell_type": "markdown",
   "id": "607a11c6-07dd-462e-943a-0697a616882d",
   "metadata": {},
   "source": [
    "## Example 2: Using dbLite\n",
    "\n",
    "To use dbLite, simply reference the db object we created earlier, and call the sql method."
   ]
  },
  {
   "cell_type": "code",
   "execution_count": 3,
   "id": "e248ed24-dcd5-4b3f-b62e-539a0754f917",
   "metadata": {},
   "outputs": [],
   "source": [
    "# Creating a table, then selecting from it.\n",
    "sql = \"\"\"\n",
    "    DROP TABLE IF EXISTS invited_users_by_project;\n",
    "    CREATE TABLE invited_users_by_project AS\n",
    "    SELECT\n",
    "        t1.project_gid,\n",
    "        count(distinct t2.user_gid) as invited_users\n",
    "    FROM projects t1\n",
    "    INNER JOIN activity t2\n",
    "    ON t1.project_gid = t2.project_gid\n",
    "    GROUP BY 1\n",
    "    ORDER BY 2 DESC;\n",
    "\"\"\"\n",
    "db.sql(sql)\n",
    "sql = \"\"\"\n",
    "    SELECT *\n",
    "    FROM invited_users_by_project;\n",
    "\"\"\"\n",
    "df1 = db.sql(sql)\n",
    "df1"
   ]
  },
  {
   "cell_type": "code",
   "execution_count": 9,
   "id": "c22f5e87-6226-4e7e-a784-07c3f23c2598",
   "metadata": {},
   "outputs": [],
   "source": [
    "# Creating a table, then selecting from it.\n",
    "sql = \"\"\"\n",
    "    DROP VIEW IF EXISTS top_5_invited_users;\n",
    "    CREATE VIEW top_5_invited_users AS\n",
    "    SELECT\n",
    "        t1.user_gid,\n",
    "        count(distinct t2.project_gid) as invited_projects\n",
    "    FROM users t1\n",
    "    INNER JOIN activity t2\n",
    "    ON t1.user_gid = t2.user_gid\n",
    "    GROUP BY 1\n",
    "    ORDER BY 2 DESC\n",
    "    LIMIT 5;\n",
    "\"\"\"\n",
    "db.sql(sql)\n",
    "sql = \"\"\"\n",
    "    SELECT *\n",
    "    FROM top_5_invited_users;\n",
    "\"\"\"\n",
    "df2 = db.sql(sql)\n",
    "df2"
   ]
  },
  {
   "cell_type": "code",
   "execution_count": 10,
   "id": "1abdfcb0-7e04-4a22-8802-fb14696268e8",
   "metadata": {},
   "outputs": [],
   "source": [
    "# Example of using a parameterized query\n",
    "sql = \"SELECT COUNT(*) FROM activity WHERE project_gid = %(project_gid)s\"\n",
    "params = {\n",
    "    'project_gid': 1,\n",
    "}\n",
    "db.sql(sql,params)"
   ]
  },
  {
   "cell_type": "code",
   "execution_count": null,
   "id": "c8e8d963-0e1f-4b1c-8d7a-3f0d79d2d4c4",
   "metadata": {},
   "outputs": [],
   "source": []
  }
 ],
 "metadata": {
  "kernelspec": {
   "display_name": "Python 3 (ipykernel)",
   "language": "python",
   "name": "python3"
  },
  "language_info": {
   "codemirror_mode": {
    "name": "ipython",
    "version": 3
   },
   "file_extension": ".py",
   "mimetype": "text/x-python",
   "name": "python",
   "nbconvert_exporter": "python",
   "pygments_lexer": "ipython3",
   "version": "3.9.12"
  }
 },
 "nbformat": 4,
 "nbformat_minor": 5
}
